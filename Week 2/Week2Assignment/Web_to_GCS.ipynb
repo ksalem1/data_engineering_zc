{
 "cells": [
  {
   "cell_type": "code",
   "execution_count": 2,
   "id": "4fc76ce3",
   "metadata": {},
   "outputs": [],
   "source": [
    "import requests\n",
    "import pandas as pd\n",
    "from io import BytesIO\n",
    "from prefect import flow, task\n",
    "from prefect_gcp.cloud_storage import GcsBucket\n"
   ]
  },
  {
   "cell_type": "code",
   "execution_count": 8,
   "id": "11996798",
   "metadata": {},
   "outputs": [
    {
     "name": "stderr",
     "output_type": "stream",
     "text": [
      "D:\\DEZC\\Week2\\zoomcamp\\lib\\site-packages\\prefect\\tasks.py:256: UserWarning: A task named 'extract_from_web' and defined at 'C:\\Users\\ksale\\AppData\\Local\\Temp\\ipykernel_4392\\1108753477.py:1' conflicts with another task. Consider specifying a unique `name` parameter in the task definition:\n",
      "\n",
      " `@task(name='my_unique_name', ...)`\n",
      "  warnings.warn(\n"
     ]
    }
   ],
   "source": [
    "@task()\n",
    "def extract_from_web(url: str) -> bytes:\n",
    "    r = requests.get(url)\n",
    "    return r.content"
   ]
  },
  {
   "cell_type": "code",
   "execution_count": 9,
   "id": "61ae3f2a",
   "metadata": {},
   "outputs": [
    {
     "name": "stderr",
     "output_type": "stream",
     "text": [
      "D:\\DEZC\\Week2\\zoomcamp\\lib\\site-packages\\prefect\\tasks.py:256: UserWarning: A task named 'save_as_raw' and defined at 'C:\\Users\\ksale\\AppData\\Local\\Temp\\ipykernel_4392\\4108602559.py:1' conflicts with another task. Consider specifying a unique `name` parameter in the task definition:\n",
      "\n",
      " `@task(name='my_unique_name', ...)`\n",
      "  warnings.warn(\n"
     ]
    }
   ],
   "source": [
    "@task()\n",
    "def save_as_raw(content: bytes, storage_path: str) -> None:\n",
    "    gcs = GcsBucket.load('zoom-gcs')\n",
    "    gcs.upload_from_file_object(BytesIO(content), storage_path)\n"
   ]
  },
  {
   "cell_type": "code",
   "execution_count": 10,
   "id": "77dd34a3",
   "metadata": {},
   "outputs": [
    {
     "name": "stderr",
     "output_type": "stream",
     "text": [
      "D:\\DEZC\\Week2\\zoomcamp\\lib\\site-packages\\prefect\\tasks.py:256: UserWarning: A task named 'save_as_parquet' and defined at 'C:\\Users\\ksale\\AppData\\Local\\Temp\\ipykernel_4392\\2229267515.py:1' conflicts with another task. Consider specifying a unique `name` parameter in the task definition:\n",
      "\n",
      " `@task(name='my_unique_name', ...)`\n",
      "  warnings.warn(\n"
     ]
    }
   ],
   "source": [
    "@task(log_prints=True)\n",
    "def save_as_parquet(content: bytes, url: str, storage_path_parquet: str) -> pd.DataFrame:\n",
    "    gcs = GcsBucket.load('zoom-gcs')\n",
    "    if url.endswith('.csv'):\n",
    "        df = pd.read_csv(BytesIO(content))\n",
    "    if url.endswith('.csv.gz'):\n",
    "        df = pd.read_csv(BytesIO(content), compression='gzip')\n",
    "    df.columns = [c.lower() for c in df.columns]\n",
    "    print(df.head())\n",
    "    print('Rows loaded:', len(df))\n",
    "    buffer = BytesIO()\n",
    "    df.to_parquet(buffer, engine='auto', compression='snappy')\n",
    "    buffer.seek(0)\n",
    "    gcs.upload_from_file_object(buffer, storage_path_parquet)\n"
   ]
  },
  {
   "cell_type": "code",
   "execution_count": 11,
   "id": "176d0941",
   "metadata": {},
   "outputs": [
    {
     "name": "stderr",
     "output_type": "stream",
     "text": [
      "D:\\DEZC\\Week2\\zoomcamp\\lib\\site-packages\\prefect\\flows.py:206: UserWarning: A flow named 'Save from web to Cloud Storage' and defined at 'C:\\Users\\ksale\\AppData\\Local\\Temp\\ipykernel_4392\\2271283667.py:1' conflicts with another flow. Consider specifying a unique `name` parameter in the flow definition:\n",
      "\n",
      " `@flow(name='my_unique_name', ...)`\n",
      "  warnings.warn(\n"
     ]
    }
   ],
   "source": [
    "@flow(name='Save from web to Cloud Storage')\n",
    "def load_to_gcs(color: str, year: int, month: int) -> None:\n",
    "\n",
    "    url = f'https://github.com/DataTalksClub/nyc-tlc-data/releases/download/{color}/{color}_tripdata_{year}-{month:02}.csv.gz'\n",
    "    storage_path = f'trips/raw/{color}_tripdata_{year}-{month:02}.csv.gz'\n",
    "    storage_path_parquet = f'trips/parquet/{color}_tripdata_{year}-{month:02}.parquet'\n",
    "\n",
    "    content = extract_from_web(url)\n",
    "    save_as_raw(content, storage_path)\n",
    "    save_as_parquet(content, url, storage_path_parquet)"
   ]
  },
  {
   "cell_type": "code",
   "execution_count": 12,
   "id": "9f3b51d9",
   "metadata": {},
   "outputs": [
    {
     "data": {
      "text/html": [
       "<pre style=\"white-space:pre;overflow-x:auto;line-height:normal;font-family:Menlo,'DejaVu Sans Mono',consolas,'Courier New',monospace\">01:21:59.759 | <span style=\"color: #008080; text-decoration-color: #008080\">INFO</span>    | prefect.engine - Created flow run<span style=\"color: #800080; text-decoration-color: #800080\"> 'translucent-pronghorn'</span> for flow<span style=\"color: #800080; text-decoration-color: #800080; font-weight: bold\"> 'Save from web to Cloud Storage'</span>\n",
       "</pre>\n"
      ],
      "text/plain": [
       "01:21:59.759 | \u001b[36mINFO\u001b[0m    | prefect.engine - Created flow run\u001b[35m 'translucent-pronghorn'\u001b[0m for flow\u001b[1;35m 'Save from web to Cloud Storage'\u001b[0m\n"
      ]
     },
     "metadata": {},
     "output_type": "display_data"
    },
    {
     "data": {
      "text/html": [
       "<pre style=\"white-space:pre;overflow-x:auto;line-height:normal;font-family:Menlo,'DejaVu Sans Mono',consolas,'Courier New',monospace\">01:21:59.978 | <span style=\"color: #008080; text-decoration-color: #008080\">INFO</span>    | Flow run<span style=\"color: #800080; text-decoration-color: #800080\"> 'translucent-pronghorn'</span> - Created task run 'extract_from_web-d388bed7-0' for task 'extract_from_web'\n",
       "</pre>\n"
      ],
      "text/plain": [
       "01:21:59.978 | \u001b[36mINFO\u001b[0m    | Flow run\u001b[35m 'translucent-pronghorn'\u001b[0m - Created task run 'extract_from_web-d388bed7-0' for task 'extract_from_web'\n"
      ]
     },
     "metadata": {},
     "output_type": "display_data"
    },
    {
     "data": {
      "text/html": [
       "<pre style=\"white-space:pre;overflow-x:auto;line-height:normal;font-family:Menlo,'DejaVu Sans Mono',consolas,'Courier New',monospace\">01:21:59.980 | <span style=\"color: #008080; text-decoration-color: #008080\">INFO</span>    | Flow run<span style=\"color: #800080; text-decoration-color: #800080\"> 'translucent-pronghorn'</span> - Executing 'extract_from_web-d388bed7-0' immediately...\n",
       "</pre>\n"
      ],
      "text/plain": [
       "01:21:59.980 | \u001b[36mINFO\u001b[0m    | Flow run\u001b[35m 'translucent-pronghorn'\u001b[0m - Executing 'extract_from_web-d388bed7-0' immediately...\n"
      ]
     },
     "metadata": {},
     "output_type": "display_data"
    },
    {
     "data": {
      "text/html": [
       "<pre style=\"white-space:pre;overflow-x:auto;line-height:normal;font-family:Menlo,'DejaVu Sans Mono',consolas,'Courier New',monospace\">01:22:02.517 | <span style=\"color: #008080; text-decoration-color: #008080\">INFO</span>    | Task run 'extract_from_web-d388bed7-0' - Finished in state <span style=\"color: #008000; text-decoration-color: #008000\">Completed</span>()\n",
       "</pre>\n"
      ],
      "text/plain": [
       "01:22:02.517 | \u001b[36mINFO\u001b[0m    | Task run 'extract_from_web-d388bed7-0' - Finished in state \u001b[32mCompleted\u001b[0m()\n"
      ]
     },
     "metadata": {},
     "output_type": "display_data"
    },
    {
     "data": {
      "text/html": [
       "<pre style=\"white-space:pre;overflow-x:auto;line-height:normal;font-family:Menlo,'DejaVu Sans Mono',consolas,'Courier New',monospace\">01:22:02.571 | <span style=\"color: #008080; text-decoration-color: #008080\">INFO</span>    | Flow run<span style=\"color: #800080; text-decoration-color: #800080\"> 'translucent-pronghorn'</span> - Created task run 'save_as_raw-fe301552-0' for task 'save_as_raw'\n",
       "</pre>\n"
      ],
      "text/plain": [
       "01:22:02.571 | \u001b[36mINFO\u001b[0m    | Flow run\u001b[35m 'translucent-pronghorn'\u001b[0m - Created task run 'save_as_raw-fe301552-0' for task 'save_as_raw'\n"
      ]
     },
     "metadata": {},
     "output_type": "display_data"
    },
    {
     "data": {
      "text/html": [
       "<pre style=\"white-space:pre;overflow-x:auto;line-height:normal;font-family:Menlo,'DejaVu Sans Mono',consolas,'Courier New',monospace\">01:22:02.573 | <span style=\"color: #008080; text-decoration-color: #008080\">INFO</span>    | Flow run<span style=\"color: #800080; text-decoration-color: #800080\"> 'translucent-pronghorn'</span> - Executing 'save_as_raw-fe301552-0' immediately...\n",
       "</pre>\n"
      ],
      "text/plain": [
       "01:22:02.573 | \u001b[36mINFO\u001b[0m    | Flow run\u001b[35m 'translucent-pronghorn'\u001b[0m - Executing 'save_as_raw-fe301552-0' immediately...\n"
      ]
     },
     "metadata": {},
     "output_type": "display_data"
    },
    {
     "data": {
      "text/html": [
       "<pre style=\"white-space:pre;overflow-x:auto;line-height:normal;font-family:Menlo,'DejaVu Sans Mono',consolas,'Courier New',monospace\">01:22:02.744 | <span style=\"color: #008080; text-decoration-color: #008080\">INFO</span>    | Task run 'save_as_raw-fe301552-0' - Getting bucket 'prefect_zoomcamp'.\n",
       "</pre>\n"
      ],
      "text/plain": [
       "01:22:02.744 | \u001b[36mINFO\u001b[0m    | Task run 'save_as_raw-fe301552-0' - Getting bucket 'prefect_zoomcamp'.\n"
      ]
     },
     "metadata": {},
     "output_type": "display_data"
    },
    {
     "data": {
      "text/html": [
       "<pre style=\"white-space:pre;overflow-x:auto;line-height:normal;font-family:Menlo,'DejaVu Sans Mono',consolas,'Courier New',monospace\">01:22:03.859 | <span style=\"color: #008080; text-decoration-color: #008080\">INFO</span>    | Task run 'save_as_raw-fe301552-0' - Uploading from file object to the bucket 'prefect_zoomcamp' path 'trips\\\\raw\\\\green_tripdata_2020-01.csv.gz'.\n",
       "</pre>\n"
      ],
      "text/plain": [
       "01:22:03.859 | \u001b[36mINFO\u001b[0m    | Task run 'save_as_raw-fe301552-0' - Uploading from file object to the bucket 'prefect_zoomcamp' path 'trips\\\\raw\\\\green_tripdata_2020-01.csv.gz'.\n"
      ]
     },
     "metadata": {},
     "output_type": "display_data"
    },
    {
     "data": {
      "text/html": [
       "<pre style=\"white-space:pre;overflow-x:auto;line-height:normal;font-family:Menlo,'DejaVu Sans Mono',consolas,'Courier New',monospace\">01:22:07.693 | <span style=\"color: #008080; text-decoration-color: #008080\">INFO</span>    | Task run 'save_as_raw-fe301552-0' - Finished in state <span style=\"color: #008000; text-decoration-color: #008000\">Completed</span>()\n",
       "</pre>\n"
      ],
      "text/plain": [
       "01:22:07.693 | \u001b[36mINFO\u001b[0m    | Task run 'save_as_raw-fe301552-0' - Finished in state \u001b[32mCompleted\u001b[0m()\n"
      ]
     },
     "metadata": {},
     "output_type": "display_data"
    },
    {
     "data": {
      "text/html": [
       "<pre style=\"white-space:pre;overflow-x:auto;line-height:normal;font-family:Menlo,'DejaVu Sans Mono',consolas,'Courier New',monospace\">01:22:07.748 | <span style=\"color: #008080; text-decoration-color: #008080\">INFO</span>    | Flow run<span style=\"color: #800080; text-decoration-color: #800080\"> 'translucent-pronghorn'</span> - Created task run 'save_as_parquet-dae70288-0' for task 'save_as_parquet'\n",
       "</pre>\n"
      ],
      "text/plain": [
       "01:22:07.748 | \u001b[36mINFO\u001b[0m    | Flow run\u001b[35m 'translucent-pronghorn'\u001b[0m - Created task run 'save_as_parquet-dae70288-0' for task 'save_as_parquet'\n"
      ]
     },
     "metadata": {},
     "output_type": "display_data"
    },
    {
     "data": {
      "text/html": [
       "<pre style=\"white-space:pre;overflow-x:auto;line-height:normal;font-family:Menlo,'DejaVu Sans Mono',consolas,'Courier New',monospace\">01:22:07.750 | <span style=\"color: #008080; text-decoration-color: #008080\">INFO</span>    | Flow run<span style=\"color: #800080; text-decoration-color: #800080\"> 'translucent-pronghorn'</span> - Executing 'save_as_parquet-dae70288-0' immediately...\n",
       "</pre>\n"
      ],
      "text/plain": [
       "01:22:07.750 | \u001b[36mINFO\u001b[0m    | Flow run\u001b[35m 'translucent-pronghorn'\u001b[0m - Executing 'save_as_parquet-dae70288-0' immediately...\n"
      ]
     },
     "metadata": {},
     "output_type": "display_data"
    },
    {
     "name": "stderr",
     "output_type": "stream",
     "text": [
      "C:\\Users\\ksale\\AppData\\Local\\Temp\\ipykernel_4392\\2229267515.py:7: DtypeWarning: Columns (3) have mixed types. Specify dtype option on import or set low_memory=False.\n",
      "  df = pd.read_csv(BytesIO(content), compression='gzip')\n"
     ]
    },
    {
     "data": {
      "text/html": [
       "<pre style=\"white-space:pre;overflow-x:auto;line-height:normal;font-family:Menlo,'DejaVu Sans Mono',consolas,'Courier New',monospace\">01:22:09.702 | <span style=\"color: #008080; text-decoration-color: #008080\">INFO</span>    | Task run 'save_as_parquet-dae70288-0' -    vendorid lpep_pickup_datetime lpep_dropoff_datetime store_and_fwd_flag  \\\n",
       "0       2.0  2019-12-18 15:52:30   2019-12-18 15:54:39                  N   \n",
       "1       2.0  2020-01-01 00:45:58   2020-01-01 00:56:39                  N   \n",
       "2       2.0  2020-01-01 00:41:38   2020-01-01 00:52:49                  N   \n",
       "3       1.0  2020-01-01 00:52:46   2020-01-01 01:14:21                  N   \n",
       "4       1.0  2020-01-01 00:19:57   2020-01-01 00:30:56                  N   \n",
       "\n",
       "   ratecodeid  pulocationid  dolocationid  passenger_count  trip_distance  \\\n",
       "0         1.0           264           264              5.0           0.00   \n",
       "1         5.0            66            65              2.0           1.28   \n",
       "2         1.0           181           228              1.0           2.47   \n",
       "3         1.0           129           263              2.0           6.30   \n",
       "4         1.0           210           150              1.0           2.30   \n",
       "\n",
       "   fare_amount  extra  mta_tax  tip_amount  tolls_amount  ehail_fee  \\\n",
       "0          3.5   0.50      0.5        0.01           0.0        NaN   \n",
       "1         20.0   0.00      0.0        4.06           0.0        NaN   \n",
       "2         10.5   0.50      0.5        3.54           0.0        NaN   \n",
       "3         21.0   3.25      0.5        0.00           0.0        NaN   \n",
       "4         10.0   0.50      0.5        0.00           0.0        NaN   \n",
       "\n",
       "   improvement_surcharge  total_amount  payment_type  trip_type  \\\n",
       "0                    0.3          4.81           1.0        1.0   \n",
       "1                    0.3         24.36           1.0        2.0   \n",
       "2                    0.3         15.34           1.0        1.0   \n",
       "3                    0.3         25.05           2.0        1.0   \n",
       "4                    0.3         11.30           1.0        1.0   \n",
       "\n",
       "   congestion_surcharge  \n",
       "0                  0.00  \n",
       "1                  0.00  \n",
       "2                  0.00  \n",
       "3                  2.75  \n",
       "4                  0.00\n",
       "</pre>\n"
      ],
      "text/plain": [
       "01:22:09.702 | \u001b[36mINFO\u001b[0m    | Task run 'save_as_parquet-dae70288-0' -    vendorid lpep_pickup_datetime lpep_dropoff_datetime store_and_fwd_flag  \\\n",
       "0       2.0  2019-12-18 15:52:30   2019-12-18 15:54:39                  N   \n",
       "1       2.0  2020-01-01 00:45:58   2020-01-01 00:56:39                  N   \n",
       "2       2.0  2020-01-01 00:41:38   2020-01-01 00:52:49                  N   \n",
       "3       1.0  2020-01-01 00:52:46   2020-01-01 01:14:21                  N   \n",
       "4       1.0  2020-01-01 00:19:57   2020-01-01 00:30:56                  N   \n",
       "\n",
       "   ratecodeid  pulocationid  dolocationid  passenger_count  trip_distance  \\\n",
       "0         1.0           264           264              5.0           0.00   \n",
       "1         5.0            66            65              2.0           1.28   \n",
       "2         1.0           181           228              1.0           2.47   \n",
       "3         1.0           129           263              2.0           6.30   \n",
       "4         1.0           210           150              1.0           2.30   \n",
       "\n",
       "   fare_amount  extra  mta_tax  tip_amount  tolls_amount  ehail_fee  \\\n",
       "0          3.5   0.50      0.5        0.01           0.0        NaN   \n",
       "1         20.0   0.00      0.0        4.06           0.0        NaN   \n",
       "2         10.5   0.50      0.5        3.54           0.0        NaN   \n",
       "3         21.0   3.25      0.5        0.00           0.0        NaN   \n",
       "4         10.0   0.50      0.5        0.00           0.0        NaN   \n",
       "\n",
       "   improvement_surcharge  total_amount  payment_type  trip_type  \\\n",
       "0                    0.3          4.81           1.0        1.0   \n",
       "1                    0.3         24.36           1.0        2.0   \n",
       "2                    0.3         15.34           1.0        1.0   \n",
       "3                    0.3         25.05           2.0        1.0   \n",
       "4                    0.3         11.30           1.0        1.0   \n",
       "\n",
       "   congestion_surcharge  \n",
       "0                  0.00  \n",
       "1                  0.00  \n",
       "2                  0.00  \n",
       "3                  2.75  \n",
       "4                  0.00\n"
      ]
     },
     "metadata": {},
     "output_type": "display_data"
    },
    {
     "data": {
      "text/html": [
       "<pre style=\"white-space:pre;overflow-x:auto;line-height:normal;font-family:Menlo,'DejaVu Sans Mono',consolas,'Courier New',monospace\">01:22:09.707 | <span style=\"color: #008080; text-decoration-color: #008080\">INFO</span>    | Task run 'save_as_parquet-dae70288-0' - Rows loaded: 447770\n",
       "</pre>\n"
      ],
      "text/plain": [
       "01:22:09.707 | \u001b[36mINFO\u001b[0m    | Task run 'save_as_parquet-dae70288-0' - Rows loaded: 447770\n"
      ]
     },
     "metadata": {},
     "output_type": "display_data"
    },
    {
     "data": {
      "text/html": [
       "<pre style=\"white-space:pre;overflow-x:auto;line-height:normal;font-family:Menlo,'DejaVu Sans Mono',consolas,'Courier New',monospace\">01:22:10.373 | <span style=\"color: #008080; text-decoration-color: #008080\">INFO</span>    | Task run 'save_as_parquet-dae70288-0' - Getting bucket 'prefect_zoomcamp'.\n",
       "</pre>\n"
      ],
      "text/plain": [
       "01:22:10.373 | \u001b[36mINFO\u001b[0m    | Task run 'save_as_parquet-dae70288-0' - Getting bucket 'prefect_zoomcamp'.\n"
      ]
     },
     "metadata": {},
     "output_type": "display_data"
    },
    {
     "data": {
      "text/html": [
       "<pre style=\"white-space:pre;overflow-x:auto;line-height:normal;font-family:Menlo,'DejaVu Sans Mono',consolas,'Courier New',monospace\">01:22:11.480 | <span style=\"color: #008080; text-decoration-color: #008080\">INFO</span>    | Task run 'save_as_parquet-dae70288-0' - Uploading from file object to the bucket 'prefect_zoomcamp' path 'trips\\\\parquet\\\\green_tripdata_2020-01.parquet'.\n",
       "</pre>\n"
      ],
      "text/plain": [
       "01:22:11.480 | \u001b[36mINFO\u001b[0m    | Task run 'save_as_parquet-dae70288-0' - Uploading from file object to the bucket 'prefect_zoomcamp' path 'trips\\\\parquet\\\\green_tripdata_2020-01.parquet'.\n"
      ]
     },
     "metadata": {},
     "output_type": "display_data"
    },
    {
     "data": {
      "text/html": [
       "<pre style=\"white-space:pre;overflow-x:auto;line-height:normal;font-family:Menlo,'DejaVu Sans Mono',consolas,'Courier New',monospace\">01:22:15.996 | <span style=\"color: #008080; text-decoration-color: #008080\">INFO</span>    | Task run 'save_as_parquet-dae70288-0' - Finished in state <span style=\"color: #008000; text-decoration-color: #008000\">Completed</span>()\n",
       "</pre>\n"
      ],
      "text/plain": [
       "01:22:15.996 | \u001b[36mINFO\u001b[0m    | Task run 'save_as_parquet-dae70288-0' - Finished in state \u001b[32mCompleted\u001b[0m()\n"
      ]
     },
     "metadata": {},
     "output_type": "display_data"
    },
    {
     "data": {
      "text/html": [
       "<pre style=\"white-space:pre;overflow-x:auto;line-height:normal;font-family:Menlo,'DejaVu Sans Mono',consolas,'Courier New',monospace\">01:22:16.045 | <span style=\"color: #008080; text-decoration-color: #008080\">INFO</span>    | Flow run<span style=\"color: #800080; text-decoration-color: #800080\"> 'translucent-pronghorn'</span> - Finished in state <span style=\"color: #008000; text-decoration-color: #008000\">Completed</span>('All states completed.')\n",
       "</pre>\n"
      ],
      "text/plain": [
       "01:22:16.045 | \u001b[36mINFO\u001b[0m    | Flow run\u001b[35m 'translucent-pronghorn'\u001b[0m - Finished in state \u001b[32mCompleted\u001b[0m('All states completed.')\n"
      ]
     },
     "metadata": {},
     "output_type": "display_data"
    }
   ],
   "source": [
    "if __name__ == '__main__':\n",
    "    color = 'green'\n",
    "    year = 2020\n",
    "    month = 1\n",
    "    \n",
    "    load_to_gcs(color, year, month)"
   ]
  },
  {
   "cell_type": "code",
   "execution_count": null,
   "id": "5affb529",
   "metadata": {},
   "outputs": [],
   "source": []
  }
 ],
 "metadata": {
  "kernelspec": {
   "display_name": "zoomcamp",
   "language": "python",
   "name": "zoomcamp"
  },
  "language_info": {
   "codemirror_mode": {
    "name": "ipython",
    "version": 3
   },
   "file_extension": ".py",
   "mimetype": "text/x-python",
   "name": "python",
   "nbconvert_exporter": "python",
   "pygments_lexer": "ipython3",
   "version": "3.10.0"
  }
 },
 "nbformat": 4,
 "nbformat_minor": 5
}
